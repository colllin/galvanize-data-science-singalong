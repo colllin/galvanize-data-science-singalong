{
 "cells": [
  {
   "cell_type": "code",
   "execution_count": 1,
   "metadata": {},
   "outputs": [
    {
     "name": "stdout",
     "output_type": "stream",
     "text": [
      "Collecting numpy\n",
      "  Downloading numpy-1.14.0-cp36-cp36m-macosx_10_6_intel.macosx_10_9_intel.macosx_10_9_x86_64.macosx_10_10_intel.macosx_10_10_x86_64.whl (4.7MB)\n",
      "\u001b[K    100% |████████████████████████████████| 4.7MB 259kB/s ta 0:00:011\n",
      "\u001b[?25hInstalling collected packages: numpy\n",
      "Successfully installed numpy-1.14.0\n"
     ]
    }
   ],
   "source": [
    "!pip install numpy"
   ]
  },
  {
   "cell_type": "code",
   "execution_count": 2,
   "metadata": {},
   "outputs": [],
   "source": [
    "import numpy as np"
   ]
  },
  {
   "cell_type": "code",
   "execution_count": 3,
   "metadata": {},
   "outputs": [
    {
     "data": {
      "text/plain": [
       "array([[1, 2, 3],\n",
       "       [4, 5, 6],\n",
       "       [7, 8, 9]])"
      ]
     },
     "execution_count": 3,
     "metadata": {},
     "output_type": "execute_result"
    }
   ],
   "source": [
    "X = np.array([[1,2,3],[4,5,6],[7,8,9]])\n",
    "X"
   ]
  },
  {
   "cell_type": "code",
   "execution_count": 21,
   "metadata": {},
   "outputs": [
    {
     "data": {
      "text/plain": [
       "((3, 3), 9, 2, dtype('int64'))"
      ]
     },
     "execution_count": 21,
     "metadata": {},
     "output_type": "execute_result"
    }
   ],
   "source": [
    "X.shape, X.size, X.ndim, X.dtype"
   ]
  },
  {
   "cell_type": "code",
   "execution_count": 25,
   "metadata": {},
   "outputs": [
    {
     "data": {
      "text/plain": [
       "(array([0, 2, 4, 6, 8]), array([0, 2, 4, 6, 8]))"
      ]
     },
     "execution_count": 25,
     "metadata": {},
     "output_type": "execute_result"
    }
   ],
   "source": [
    "np.arange(0, 10, 2), np.array(range(0, 10, 2))"
   ]
  },
  {
   "cell_type": "code",
   "execution_count": 23,
   "metadata": {},
   "outputs": [
    {
     "data": {
      "text/plain": [
       "array([0., 2., 4., 6., 8.])"
      ]
     },
     "execution_count": 23,
     "metadata": {},
     "output_type": "execute_result"
    }
   ],
   "source": [
    "np.linspace(0, 10, 5, endpoint=False)"
   ]
  },
  {
   "cell_type": "code",
   "execution_count": 37,
   "metadata": {},
   "outputs": [
    {
     "data": {
      "text/plain": [
       "array([[  1,   2,   3,   4,   5,   6,   7,   8,   9,  10],\n",
       "       [ 11,  12,  13,  14,  15,  16,  17,  18,  19,  20],\n",
       "       [ 21,  22,  23,  24,  25,  26,  27,  28,  29,  30],\n",
       "       [ 31,  32,  33,  34,  35,  36,  37,  38,  39,  40],\n",
       "       [ 41,  42,  43,  44,  45,  46,  47,  48,  49,  50],\n",
       "       [ 51,  52,  53,  54,  55,  56,  57,  58,  59,  60],\n",
       "       [ 61,  62,  63,  64,  65,  66,  67,  68,  69,  70],\n",
       "       [ 71,  72,  73,  74,  75,  76,  77,  78,  79,  80],\n",
       "       [ 81,  82,  83,  84,  85,  86,  87,  88,  89,  90],\n",
       "       [ 91,  92,  93,  94,  95,  96,  97,  98,  99, 100]])"
      ]
     },
     "execution_count": 37,
     "metadata": {},
     "output_type": "execute_result"
    }
   ],
   "source": [
    "a = np.arange(1,101).reshape(10,10)\n",
    "a"
   ]
  },
  {
   "cell_type": "code",
   "execution_count": 38,
   "metadata": {},
   "outputs": [
    {
     "name": "stdout",
     "output_type": "stream",
     "text": [
      "rank 2\n",
      "100 elements\n",
      "dimensions (10, 10)\n"
     ]
    }
   ],
   "source": [
    "print('rank {}'.format(a.ndim))\n",
    "print('{} elements'.format(a.size))\n",
    "print('dimensions {}'.format(a.shape))"
   ]
  },
  {
   "cell_type": "code",
   "execution_count": 39,
   "metadata": {},
   "outputs": [
    {
     "name": "stdout",
     "output_type": "stream",
     "text": [
      "mean of rows: [ 5.5 15.5 25.5 35.5 45.5 55.5 65.5 75.5 85.5 95.5]\n",
      "mean of columns: [46. 47. 48. 49. 50. 51. 52. 53. 54. 55.]\n"
     ]
    }
   ],
   "source": [
    "print('mean of rows: {}'.format(a.mean(axis=1)))\n",
    "print('mean of columns: {}'.format(a.mean(axis=0)))"
   ]
  },
  {
   "cell_type": "code",
   "execution_count": 36,
   "metadata": {},
   "outputs": [
    {
     "data": {
      "text/plain": [
       "array([11.        , 11.24489796, 11.48979592, 11.73469388, 11.97959184,\n",
       "       12.2244898 , 12.46938776, 12.71428571, 12.95918367, 13.20408163,\n",
       "       13.44897959, 13.69387755, 13.93877551, 14.18367347, 14.42857143,\n",
       "       14.67346939, 14.91836735, 15.16326531, 15.40816327, 15.65306122,\n",
       "       15.89795918, 16.14285714, 16.3877551 , 16.63265306, 16.87755102,\n",
       "       17.12244898, 17.36734694, 17.6122449 , 17.85714286, 18.10204082,\n",
       "       18.34693878, 18.59183673, 18.83673469, 19.08163265, 19.32653061,\n",
       "       19.57142857, 19.81632653, 20.06122449, 20.30612245, 20.55102041,\n",
       "       20.79591837, 21.04081633, 21.28571429, 21.53061224, 21.7755102 ,\n",
       "       22.02040816, 22.26530612, 22.51020408, 22.75510204, 23.        ])"
      ]
     },
     "execution_count": 36,
     "metadata": {},
     "output_type": "execute_result"
    }
   ],
   "source": [
    "np.linspace(11, 23, 50)"
   ]
  },
  {
   "cell_type": "code",
   "execution_count": 42,
   "metadata": {},
   "outputs": [
    {
     "data": {
      "text/plain": [
       "(array([[0.        , 0.69314718, 1.09861229, 1.38629436, 1.60943791,\n",
       "         1.79175947, 1.94591015, 2.07944154, 2.19722458, 2.30258509],\n",
       "        [2.39789527, 2.48490665, 2.56494936, 2.63905733, 2.7080502 ,\n",
       "         2.77258872, 2.83321334, 2.89037176, 2.94443898, 2.99573227],\n",
       "        [3.04452244, 3.09104245, 3.13549422, 3.17805383, 3.21887582,\n",
       "         3.25809654, 3.29583687, 3.33220451, 3.36729583, 3.40119738],\n",
       "        [3.4339872 , 3.4657359 , 3.49650756, 3.52636052, 3.55534806,\n",
       "         3.58351894, 3.61091791, 3.63758616, 3.66356165, 3.68887945],\n",
       "        [3.71357207, 3.73766962, 3.76120012, 3.78418963, 3.80666249,\n",
       "         3.8286414 , 3.8501476 , 3.87120101, 3.8918203 , 3.91202301],\n",
       "        [3.93182563, 3.95124372, 3.97029191, 3.98898405, 4.00733319,\n",
       "         4.02535169, 4.04305127, 4.06044301, 4.07753744, 4.09434456],\n",
       "        [4.11087386, 4.12713439, 4.14313473, 4.15888308, 4.17438727,\n",
       "         4.18965474, 4.20469262, 4.21950771, 4.2341065 , 4.24849524],\n",
       "        [4.26267988, 4.27666612, 4.29045944, 4.30406509, 4.31748811,\n",
       "         4.33073334, 4.34380542, 4.35670883, 4.36944785, 4.38202663],\n",
       "        [4.39444915, 4.40671925, 4.41884061, 4.4308168 , 4.44265126,\n",
       "         4.4543473 , 4.46590812, 4.47733681, 4.48863637, 4.49980967],\n",
       "        [4.51085951, 4.52178858, 4.53259949, 4.54329478, 4.55387689,\n",
       "         4.56434819, 4.57471098, 4.58496748, 4.59511985, 4.60517019]]),\n",
       " array([   1,    3,    6,   10,   15,   21,   28,   36,   45,   55,   66,\n",
       "          78,   91,  105,  120,  136,  153,  171,  190,  210,  231,  253,\n",
       "         276,  300,  325,  351,  378,  406,  435,  465,  496,  528,  561,\n",
       "         595,  630,  666,  703,  741,  780,  820,  861,  903,  946,  990,\n",
       "        1035, 1081, 1128, 1176, 1225, 1275, 1326, 1378, 1431, 1485, 1540,\n",
       "        1596, 1653, 1711, 1770, 1830, 1891, 1953, 2016, 2080, 2145, 2211,\n",
       "        2278, 2346, 2415, 2485, 2556, 2628, 2701, 2775, 2850, 2926, 3003,\n",
       "        3081, 3160, 3240, 3321, 3403, 3486, 3570, 3655, 3741, 3828, 3916,\n",
       "        4005, 4095, 4186, 4278, 4371, 4465, 4560, 4656, 4753, 4851, 4950,\n",
       "        5050]),\n",
       " array([[    1,     4,     9,    16,    25,    36,    49,    64,    81,\n",
       "           100],\n",
       "        [  121,   144,   169,   196,   225,   256,   289,   324,   361,\n",
       "           400],\n",
       "        [  441,   484,   529,   576,   625,   676,   729,   784,   841,\n",
       "           900],\n",
       "        [  961,  1024,  1089,  1156,  1225,  1296,  1369,  1444,  1521,\n",
       "          1600],\n",
       "        [ 1681,  1764,  1849,  1936,  2025,  2116,  2209,  2304,  2401,\n",
       "          2500],\n",
       "        [ 2601,  2704,  2809,  2916,  3025,  3136,  3249,  3364,  3481,\n",
       "          3600],\n",
       "        [ 3721,  3844,  3969,  4096,  4225,  4356,  4489,  4624,  4761,\n",
       "          4900],\n",
       "        [ 5041,  5184,  5329,  5476,  5625,  5776,  5929,  6084,  6241,\n",
       "          6400],\n",
       "        [ 6561,  6724,  6889,  7056,  7225,  7396,  7569,  7744,  7921,\n",
       "          8100],\n",
       "        [ 8281,  8464,  8649,  8836,  9025,  9216,  9409,  9604,  9801,\n",
       "         10000]]))"
      ]
     },
     "execution_count": 42,
     "metadata": {},
     "output_type": "execute_result"
    }
   ],
   "source": [
    "np.log(a), a.cumsum(), np.power(a, 2)"
   ]
  },
  {
   "cell_type": "code",
   "execution_count": 45,
   "metadata": {},
   "outputs": [
    {
     "data": {
      "text/plain": [
       "array([[1],\n",
       "       [2],\n",
       "       [3],\n",
       "       [4]])"
      ]
     },
     "execution_count": 45,
     "metadata": {},
     "output_type": "execute_result"
    }
   ],
   "source": [
    "np.array([1,2,3,4]).reshape(-1,1)"
   ]
  },
  {
   "cell_type": "code",
   "execution_count": null,
   "metadata": {},
   "outputs": [],
   "source": []
  }
 ],
 "metadata": {
  "kernelspec": {
   "display_name": "galvanize-math-essentials-for-data-science",
   "language": "python",
   "name": "galvanize-math-essentials-for-data-science"
  },
  "language_info": {
   "codemirror_mode": {
    "name": "ipython",
    "version": 3
   },
   "file_extension": ".py",
   "mimetype": "text/x-python",
   "name": "python",
   "nbconvert_exporter": "python",
   "pygments_lexer": "ipython3",
   "version": "3.6.2"
  }
 },
 "nbformat": 4,
 "nbformat_minor": 2
}
