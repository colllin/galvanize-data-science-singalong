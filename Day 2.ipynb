{
 "cells": [
  {
   "cell_type": "code",
   "execution_count": 2,
   "metadata": {},
   "outputs": [],
   "source": [
    "import numpy as np\n",
    "\n",
    "geneList = np.array([[\"A2M\", \"FOS\", \"BRCA2\",\"CPOX\"]])\n",
    "values0  = np.array([[0.12,0.08,0.06,0.02]])\n",
    "values1  = np.array([[0.01,0.07,0.11,0.09]])\n",
    "values2  = np.array([[0.03,0.04,0.04,0.02]])\n",
    "values3  = np.array([[0.05,0.09,0.11,0.14]])"
   ]
  },
  {
   "cell_type": "code",
   "execution_count": 30,
   "metadata": {},
   "outputs": [
    {
     "data": {
      "text/plain": [
       "array([[0.12, 0.08, 0.06, 0.02],\n",
       "       [0.01, 0.07, 0.11, 0.09],\n",
       "       [0.03, 0.04, 0.04, 0.02],\n",
       "       [0.05, 0.09, 0.11, 0.14]])"
      ]
     },
     "execution_count": 30,
     "metadata": {},
     "output_type": "execute_result"
    }
   ],
   "source": [
    "# 1. Create a single array for the data (4x4)\n",
    "\n",
    "values = np.stack((values0.flatten(), values1.flatten(), values2.flatten(), values3.flatten()), axis=0)\n",
    "values"
   ]
  },
  {
   "cell_type": "code",
   "execution_count": 31,
   "metadata": {},
   "outputs": [
    {
     "data": {
      "text/plain": [
       "[('A2M', 0.07), ('FOS', 0.07), ('BRCA2', 0.0325), ('CPOX', 0.0975)]"
      ]
     },
     "execution_count": 31,
     "metadata": {},
     "output_type": "execute_result"
    }
   ],
   "source": [
    "# 2. Find the mean expression value per gene\n",
    "\n",
    "mean_per_gene = values.mean(axis=1)\n",
    "list(zip(geneList.flatten(), mean_per_gene))"
   ]
  },
  {
   "cell_type": "code",
   "execution_count": 32,
   "metadata": {},
   "outputs": [
    {
     "data": {
      "text/plain": [
       "[('A2M', 0.052500000000000005),\n",
       " ('FOS', 0.07),\n",
       " ('BRCA2', 0.08),\n",
       " ('CPOX', 0.0675)]"
      ]
     },
     "execution_count": 32,
     "metadata": {},
     "output_type": "execute_result"
    }
   ],
   "source": [
    "# 3. Find the mean expression value per time point\n",
    "mean_per_time = values.mean(axis=0)\n",
    "list(zip(geneList.flatten(), mean_per_time))"
   ]
  },
  {
   "cell_type": "code",
   "execution_count": 33,
   "metadata": {},
   "outputs": [],
   "source": [
    "# 4. Which gene has the maximum mean expression value?"
   ]
  },
  {
   "cell_type": "code",
   "execution_count": 34,
   "metadata": {},
   "outputs": [],
   "source": [
    "# 5. Sort the gene names by the max expression value"
   ]
  },
  {
   "cell_type": "code",
   "execution_count": null,
   "metadata": {},
   "outputs": [],
   "source": [
    "””"
   ]
  }
 ],
 "metadata": {
  "kernelspec": {
   "display_name": "galvanize-math-essentials-for-data-science",
   "language": "python",
   "name": "galvanize-math-essentials-for-data-science"
  },
  "language_info": {
   "codemirror_mode": {
    "name": "ipython",
    "version": 3
   },
   "file_extension": ".py",
   "mimetype": "text/x-python",
   "name": "python",
   "nbconvert_exporter": "python",
   "pygments_lexer": "ipython3",
   "version": "3.6.2"
  }
 },
 "nbformat": 4,
 "nbformat_minor": 2
}
