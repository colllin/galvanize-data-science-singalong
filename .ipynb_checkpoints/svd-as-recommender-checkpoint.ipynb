{
 "cells": [
  {
   "cell_type": "markdown",
   "metadata": {},
   "source": [
    "## SVD for topic analysis\n",
    "\n",
    "We can use SVD to determine what we call ***latent features***. This will be best demonstrated with an example.\n",
    "\n",
    "### Example\n",
    "\n",
    "Let's look at users ratings of different movies. The ratings are from 1-5. A rating of 0 means the user hasn't watched the movie.\n",
    "\n",
    "|       | Matrix | Alien | StarWars | Casablanca | Titanic |\n",
    "| ----- | ------ | ----- | -------- | ---------- | ------ |\n",
    "| **Alice** |      1 |     2 |        2 |          0 |      0 |\n",
    "|   **Bob** |      3 |     5 |        5 |          0 |      0 |\n",
    "| **Cindy** |      4 |     4 |        4 |          0 |      0 |\n",
    "|   **Dan** |      5 |     5 |        5 |          0 |      0 |\n",
    "| **Emily** |      0 |     2 |        0 |          4 |      4 |\n",
    "| **Frank** |      0 |     0 |        0 |          5 |      5 |\n",
    "|  **Greg** |      0 |     1 |        0 |          2 |      2 |\n",
    "\n",
    "Note that the first three movies (Matrix, Alien, StarWars) are Sci-fi movies and the last two (Casablanca, Titanic) are Romance. We will be able to mathematically pull out these topics!\n",
    "\n",
    "Let's do the computation with Python."
   ]
  },
  {
   "cell_type": "code",
   "execution_count": 2,
   "metadata": {},
   "outputs": [
    {
     "name": "stdout",
     "output_type": "stream",
     "text": [
      "Collecting pandas\n",
      "  Downloading pandas-0.22.0-cp36-cp36m-macosx_10_6_intel.macosx_10_9_intel.macosx_10_9_x86_64.macosx_10_10_intel.macosx_10_10_x86_64.whl (14.9MB)\n",
      "\u001b[K    100% |████████████████████████████████| 14.9MB 89kB/s eta 0:00:011\n",
      "\u001b[?25hRequirement already satisfied: numpy>=1.9.0 in /Users/colllin/.pyenv/versions/3.6.2/envs/galvanize-math-essentials-for-data-science/lib/python3.6/site-packages (from pandas)\n",
      "Requirement already satisfied: pytz>=2011k in /Users/colllin/.pyenv/versions/3.6.2/envs/galvanize-math-essentials-for-data-science/lib/python3.6/site-packages (from pandas)\n",
      "Requirement already satisfied: python-dateutil>=2 in /Users/colllin/.pyenv/versions/3.6.2/envs/galvanize-math-essentials-for-data-science/lib/python3.6/site-packages (from pandas)\n",
      "Requirement already satisfied: six>=1.5 in /Users/colllin/.pyenv/versions/3.6.2/envs/galvanize-math-essentials-for-data-science/lib/python3.6/site-packages (from python-dateutil>=2->pandas)\n",
      "Installing collected packages: pandas\n",
      "Successfully installed pandas-0.22.0\n"
     ]
    }
   ],
   "source": [
    "# !pip install pandas"
   ]
  },
  {
   "cell_type": "code",
   "execution_count": 3,
   "metadata": {},
   "outputs": [],
   "source": [
    "import numpy as np\n",
    "import pandas as pd\n",
    "import matplotlib.pyplot as plt\n",
    "%matplotlib inline"
   ]
  },
  {
   "cell_type": "code",
   "execution_count": 4,
   "metadata": {},
   "outputs": [],
   "source": [
    "M = np.array([[1, 2, 2, 0, 0],\n",
    "              [3, 5, 5, 0, 0],\n",
    "              [4, 4, 4, 0, 0],\n",
    "              [5, 5, 5, 0, 0],\n",
    "              [0, 2, 0, 4, 4],\n",
    "              [0, 0, 0, 5, 5],\n",
    "              [0, 1, 0, 2, 2]])"
   ]
  },
  {
   "cell_type": "code",
   "execution_count": 7,
   "metadata": {
    "scrolled": false
   },
   "outputs": [],
   "source": [
    "# Compute SVD\n",
    "from numpy.linalg import svd\n",
    "U, sigma, VT = svd(M,full_matrices=False)"
   ]
  },
  {
   "cell_type": "code",
   "execution_count": 78,
   "metadata": {},
   "outputs": [
    {
     "name": "stdout",
     "output_type": "stream",
     "text": [
      "[[-0.21  0.02  0.31  0.26 -0.28]\n",
      " [-0.55  0.06  0.53  0.46  0.14]\n",
      " [-0.5   0.07 -0.31 -0.2   0.73]\n",
      " [-0.62  0.08 -0.39 -0.24 -0.61]\n",
      " [-0.12 -0.6   0.4  -0.52 -0.  ]\n",
      " [-0.04 -0.73 -0.42  0.53 -0.  ]\n",
      " [-0.06 -0.3   0.2  -0.26 -0.  ]]\n"
     ]
    }
   ],
   "source": [
    "print(U)"
   ]
  },
  {
   "cell_type": "code",
   "execution_count": 79,
   "metadata": {},
   "outputs": [
    {
     "name": "stdout",
     "output_type": "stream",
     "text": [
      "[13.84  9.52  1.69  1.02  0.  ]\n"
     ]
    }
   ],
   "source": [
    "print(sigma)"
   ]
  },
  {
   "cell_type": "code",
   "execution_count": 80,
   "metadata": {},
   "outputs": [
    {
     "name": "stdout",
     "output_type": "stream",
     "text": [
      "[[-0.5  -0.62 -0.6  -0.06 -0.06]\n",
      " [ 0.09 -0.05  0.11 -0.7  -0.7 ]\n",
      " [-0.78  0.62  0.03 -0.07 -0.07]\n",
      " [-0.36 -0.48  0.79  0.05  0.05]\n",
      " [ 0.   -0.    0.   -0.71  0.71]]\n"
     ]
    }
   ],
   "source": [
    "print(VT)"
   ]
  },
  {
   "cell_type": "markdown",
   "metadata": {},
   "source": [
    "## Part 1\n",
    "\n",
    "Describe in your own words what the matrices contain and how they might be used"
   ]
  },
  {
   "cell_type": "code",
   "execution_count": 17,
   "metadata": {},
   "outputs": [
    {
     "name": "stdout",
     "output_type": "stream",
     "text": [
      "`U` is a 7x5 matrix where the 7 rows correspond to the original 7 rows in `M`, the 5 columns correspond to the 5 discovered \"topics\" in `sigma`, and the values represent the covariance between the 7 rows of `M` and the 5 topics in `sigma`.\n"
     ]
    }
   ],
   "source": [
    "## U matrix\n",
    "## print the shape and add your description\n",
    "print('`U` is a {nrows}x{ncols} matrix where the {nrows} rows correspond to the original {nrows} rows in `M`, the {ncols} columns correspond to the {ncols} discovered \"topics\" in `sigma`, and the values represent the covariance between the {nrows} rows of `M` and the {ncols} topics in `sigma`.'.format(\n",
    "    nrows=U.shape[0],\n",
    "    ncols=U.shape[1]\n",
    "))\n"
   ]
  },
  {
   "cell_type": "code",
   "execution_count": 19,
   "metadata": {},
   "outputs": [
    {
     "name": "stdout",
     "output_type": "stream",
     "text": [
      "`sigma` is a vector of length 5, which is the 5 diagonal values of the 5x5 topic matrix. The values represent the strength or weight of the topic which correlates `M`s rows with `M`s columns.\n"
     ]
    }
   ],
   "source": [
    "## sigma matrix\n",
    "## print the shape and add your description\n",
    "print('`sigma` is a vector of length {size}, which is the {size} diagonal values of the {size}x{size} topic matrix. The values represent the strength or weight of the topic which correlates `M`s rows with `M`s columns.'.format(\n",
    "    size=sigma.shape[0]\n",
    "))\n"
   ]
  },
  {
   "cell_type": "code",
   "execution_count": 20,
   "metadata": {},
   "outputs": [
    {
     "name": "stdout",
     "output_type": "stream",
     "text": [
      "`VT` is a 5x5 matrix where the 5 rows correspond to the 5 discovered \"topics\" in `sigma`, the 5 columns correspond to the original 5 columns in `M`, and the values represent the covariance between the 5 columns of `M` and the 5 topics in `sigma`.\n"
     ]
    }
   ],
   "source": [
    "## VT matrix\n",
    "## print the shape and add your description\n",
    "print('`VT` is a {nrows}x{ncols} matrix where the {nrows} rows correspond to the {nrows} discovered \"topics\" in `sigma`, the {ncols} columns correspond to the original {ncols} columns in `M`, and the values represent the covariance between the {ncols} columns of `M` and the {nrows} topics in `sigma`.'.format(\n",
    "    nrows=VT.shape[0],\n",
    "    ncols=VT.shape[1]\n",
    "))"
   ]
  },
  {
   "cell_type": "markdown",
   "metadata": {},
   "source": [
    "## Part 2\n",
    "\n",
    "Making use of the factorized version of our ratings"
   ]
  },
  {
   "cell_type": "code",
   "execution_count": 21,
   "metadata": {},
   "outputs": [
    {
     "name": "stdout",
     "output_type": "stream",
     "text": [
      "          0     1     2     3     4\n",
      "Alice -0.21  0.02  0.31  0.26 -0.28\n",
      "Bob   -0.55  0.06  0.53  0.46  0.14\n",
      "Cindy -0.50  0.07 -0.31 -0.20  0.73\n",
      "Dan   -0.62  0.08 -0.39 -0.24 -0.61\n",
      "Emily -0.12 -0.60  0.40 -0.52 -0.00\n",
      "Frank -0.04 -0.73 -0.42  0.53 -0.00\n",
      "Greg  -0.06 -0.30  0.20 -0.26 -0.00\n",
      "--------------------------------------\n",
      "[[13.84  0.    0.    0.    0.  ]\n",
      " [ 0.    9.52  0.    0.    0.  ]\n",
      " [ 0.    0.    1.69  0.    0.  ]\n",
      " [ 0.    0.    0.    1.02  0.  ]\n",
      " [ 0.    0.    0.    0.    0.  ]]\n",
      "--------------------------------------\n",
      "   Matrix  Alien  StarWars  Casablanca  Titanic\n",
      "0   -0.50  -0.62     -0.60       -0.06    -0.06\n",
      "1    0.09  -0.05      0.11       -0.70    -0.70\n",
      "2   -0.78   0.62      0.03       -0.07    -0.07\n",
      "3   -0.36  -0.48      0.79        0.05     0.05\n",
      "4    0.00  -0.00      0.00       -0.71     0.71\n"
     ]
    }
   ],
   "source": [
    "# Make interpretable\n",
    "movies = ['Matrix','Alien','StarWars','Casablanca','Titanic']\n",
    "users = ['Alice','Bob','Cindy','Dan','Emily','Frank','Greg']\n",
    "\n",
    "U, sigma, VT = (np.around(x,2) for x in (U,sigma,VT))\n",
    "df_U = pd.DataFrame(U, index=users)\n",
    "df_VT = pd.DataFrame(VT, columns=movies)\n",
    "\n",
    "print(df_U)\n",
    "print(\"--------------------------------------\")\n",
    "print(np.diag(sigma))\n",
    "print(\"--------------------------------------\")\n",
    "print(df_VT)"
   ]
  },
  {
   "cell_type": "markdown",
   "metadata": {},
   "source": [
    "The central matrix contains the `sigma` values on the diagonal, or the strength or weight of the discovered \"topics\".\n",
    "\n",
    "The top matrix (`U`) shows the correlation of the users with the 5 sigma values, or how much each user contributed to or correlates with each topic.\n",
    "\n",
    "The bottom matrix (`VT`) shows the correlation of the movies with the 5 sigma values, or how much each movie contributed to or correlates with each topic."
   ]
  },
  {
   "cell_type": "markdown",
   "metadata": {},
   "source": [
    "## Trim the matrices to represent a factorization from only the top two factors"
   ]
  },
  {
   "cell_type": "code",
   "execution_count": 52,
   "metadata": {},
   "outputs": [
    {
     "data": {
      "text/plain": [
       "(array([13.84,  9.52,  1.69,  1.02,  0.  ]),\n",
       " array([0, 1]),\n",
       " array([13.84,  9.52]))"
      ]
     },
     "execution_count": 52,
     "metadata": {},
     "output_type": "execute_result"
    }
   ],
   "source": [
    "sigma\n",
    "sorted_indices = np.argsort(sigma)\n",
    "top2indices = np.argwhere(sorted_indices > (sigma.size - 3)).flatten()\n",
    "sigma, top2indices, sigma[top2indices]"
   ]
  },
  {
   "cell_type": "code",
   "execution_count": 53,
   "metadata": {},
   "outputs": [
    {
     "data": {
      "text/plain": [
       "array([[-0.21,  0.02],\n",
       "       [-0.55,  0.06],\n",
       "       [-0.5 ,  0.07],\n",
       "       [-0.62,  0.08],\n",
       "       [-0.12, -0.6 ],\n",
       "       [-0.04, -0.73],\n",
       "       [-0.06, -0.3 ]])"
      ]
     },
     "execution_count": 53,
     "metadata": {},
     "output_type": "execute_result"
    }
   ],
   "source": [
    "U_trimmed = U[:, top2indices]\n",
    "U_trimmed"
   ]
  },
  {
   "cell_type": "code",
   "execution_count": 54,
   "metadata": {},
   "outputs": [
    {
     "data": {
      "text/plain": [
       "array([[-0.5 , -0.62, -0.6 , -0.06, -0.06],\n",
       "       [ 0.09, -0.05,  0.11, -0.7 , -0.7 ]])"
      ]
     },
     "execution_count": 54,
     "metadata": {},
     "output_type": "execute_result"
    }
   ],
   "source": [
    "VT_trimmed = VT[top2indices, :]\n",
    "VT_trimmed"
   ]
  },
  {
   "cell_type": "code",
   "execution_count": 58,
   "metadata": {},
   "outputs": [
    {
     "data": {
      "text/plain": [
       "array([13.84,  9.52])"
      ]
     },
     "execution_count": 58,
     "metadata": {},
     "output_type": "execute_result"
    }
   ],
   "source": [
    "sigma_trimmed = sigma[top2indices]\n",
    "sigma_trimmed"
   ]
  },
  {
   "cell_type": "code",
   "execution_count": null,
   "metadata": {},
   "outputs": [],
   "source": []
  },
  {
   "cell_type": "markdown",
   "metadata": {},
   "source": [
    "## Part 3: Does your approximate version of the matrix still reasonably reconstruct the original?"
   ]
  },
  {
   "cell_type": "code",
   "execution_count": 81,
   "metadata": {},
   "outputs": [
    {
     "data": {
      "text/plain": [
       "array([[ 1.47,  1.79,  1.76,  0.04,  0.04],\n",
       "       [ 3.86,  4.69,  4.63,  0.06,  0.06],\n",
       "       [ 3.52,  4.26,  4.23, -0.05, -0.05],\n",
       "       [ 4.36,  5.28,  5.23, -0.02, -0.02],\n",
       "       [ 0.32,  1.32,  0.37,  4.1 ,  4.1 ],\n",
       "       [-0.35,  0.69, -0.43,  4.9 ,  4.9 ],\n",
       "       [ 0.16,  0.66,  0.18,  2.05,  2.05]])"
      ]
     },
     "execution_count": 81,
     "metadata": {},
     "output_type": "execute_result"
    }
   ],
   "source": [
    "# Use this code but swap in your matrices\n",
    "np.around(U_trimmed.dot(np.diag(sigma_trimmed)).dot(VT_trimmed), 2)"
   ]
  },
  {
   "cell_type": "markdown",
   "metadata": {},
   "source": [
    "## Part 4: Make some recommendations\n",
    "\n",
    "Use cosine similarity to compare all other users to Alice (using movie profiles)"
   ]
  },
  {
   "cell_type": "code",
   "execution_count": 60,
   "metadata": {},
   "outputs": [],
   "source": [
    "def cosine_similarity(a, b):\n",
    "    return a.dot(b) / (np.linalg.norm(a) * np.linalg.norm(b))"
   ]
  },
  {
   "cell_type": "code",
   "execution_count": 88,
   "metadata": {},
   "outputs": [
    {
     "data": {
      "text/plain": [
       "[1.0000000000000002,\n",
       " 0.999906026146549,\n",
       " 0.9990258014702169,\n",
       " 0.9994432224561701,\n",
       " 0.10226476052188307,\n",
       " -0.0402010900614791,\n",
       " 0.10226476052188307]"
      ]
     },
     "execution_count": 88,
     "metadata": {},
     "output_type": "execute_result"
    }
   ],
   "source": [
    "alice = U_trimmed[0]\n",
    "[cosine_similarity(user, alice) for user in U_trimmed]\n",
    "\n",
    "# alice = U[0]\n",
    "# [cosine_similarity(user, alice) for user in U]"
   ]
  },
  {
   "cell_type": "markdown",
   "metadata": {},
   "source": [
    "Use cosine similarity to comare all other movies to StarWars (using user profiles)"
   ]
  },
  {
   "cell_type": "code",
   "execution_count": 76,
   "metadata": {},
   "outputs": [
    {
     "data": {
      "text/plain": [
       "[0.002107164624015895,\n",
       " 0.005903557758960923,\n",
       " 1.0,\n",
       " -0.003596073056726072,\n",
       " -0.003596073056726072]"
      ]
     },
     "execution_count": 76,
     "metadata": {},
     "output_type": "execute_result"
    }
   ],
   "source": [
    "starwars = VT_trimmed.T[2]\n",
    "[cosine_similarity(movie, starwars) for movie in VT_trimmed.T]\n",
    "\n",
    "starwars = VT.T[2]\n",
    "[cosine_similarity(movie, starwars) for movie in VT.T]"
   ]
  },
  {
   "cell_type": "markdown",
   "metadata": {},
   "source": [
    "Provide a new vector of ratings and determine which is closest"
   ]
  },
  {
   "cell_type": "code",
   "execution_count": 74,
   "metadata": {},
   "outputs": [
    {
     "data": {
      "text/plain": [
       "[-0.022074476836669934,\n",
       " 0.12048538174604846,\n",
       " -0.24725899206164817,\n",
       " -0.9067049412787263,\n",
       " -0.1814945985386083,\n",
       " -0.30061372024418437,\n",
       " -0.1814945985386083]"
      ]
     },
     "execution_count": 74,
     "metadata": {},
     "output_type": "execute_result"
    }
   ],
   "source": [
    "collin = [5, 2, 4, 2, 3]\n",
    "[cosine_similarity(user, collin) for user in U]"
   ]
  },
  {
   "cell_type": "code",
   "execution_count": null,
   "metadata": {},
   "outputs": [],
   "source": []
  }
 ],
 "metadata": {
  "kernelspec": {
   "display_name": "galvanize-math-essentials-for-data-science",
   "language": "python",
   "name": "galvanize-math-essentials-for-data-science"
  },
  "language_info": {
   "codemirror_mode": {
    "name": "ipython",
    "version": 3
   },
   "file_extension": ".py",
   "mimetype": "text/x-python",
   "name": "python",
   "nbconvert_exporter": "python",
   "pygments_lexer": "ipython3",
   "version": "3.6.2"
  }
 },
 "nbformat": 4,
 "nbformat_minor": 1
}
