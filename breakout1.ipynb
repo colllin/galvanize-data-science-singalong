{
 "cells": [
  {
   "cell_type": "markdown",
   "metadata": {},
   "source": [
    "# Linear algebra and NumPy\n",
    "\n",
    "This morning we will revisit some linear algebra using the NumPy library in python. \n",
    "\n",
    "**For the following exercises, use numpy vector/matrix operations. Do not use a for loop unless given explicit instructions**\n",
    "\n",
    "## Part 0: Important Numpy Notes:\n",
    "\n",
    "In an numpy array, a **row vector** is defined as:\n",
    "\n",
    "```python\n",
    "a = np.array([[1, 2, 3]])\n",
    "```\n",
    "The shape of `a` is `(1, 3)`.\n",
    "\n",
    "A **column vector** is defined as:\n",
    "```python\n",
    "b = np.array([[1], [2], [3]])\n",
    "```\n",
    "The shape of `b` is `(3, 1)`.\n",
    "\n",
    "Ensure that you check the `shape` of all the vectors throughout the exercise.\n",
    "If the shape is missing a value, i.e. `(3,)` or  `(,3)`, use `np.newaxis` to\n",
    "restore the correct dimensions."
   ]
  },
  {
   "cell_type": "code",
   "execution_count": 1,
   "metadata": {},
   "outputs": [],
   "source": [
    "import numpy as np"
   ]
  },
  {
   "cell_type": "markdown",
   "metadata": {},
   "source": [
    "## Part 1: Linear Algebra Practice:\n",
    "\n",
    "### Part 1.1\n",
    "\n",
    "The [stochastic matrix](https://en.wikipedia.org/wiki/Stochastic_matrix) or a Markov Matrix is a useful mathematical construct.  It is used to characterize transitions for a finite [Markov chain](https://en.wikipedia.org/wiki/Markov_chain). [A markov chain](https://en.oxforddictionaries.com/definition/us/markov_chain) can be described as follows:\n",
    "\n",
    ">a stochastic model describing a sequence of possible events in which the probability of each event depends only  on the state attained in the previous event.\n",
    "\n",
    "The stoichastic matrix is a square matrix specifying the probabilities of going from one state to the other such that every column of the matrix sums to 1.\n",
    "\n",
    "The probability of entering a certain state depends only on the last state occupied and the stochastic matrix, not on any earlier states.\n",
    "\n",
    "Suppose that the 2004 **state of land use** in a city of 60 $\\textrm{miles}^2$ of built-up\n",
    "area is:\n",
    "\n",
    "\n",
    "\n",
    "```\n",
    "In 2004:\n",
    "   \n",
    "C (Commercially Used): 25%\n",
    "I (Industrially Used): 20%\n",
    "R (Residentially Used): 55%\n",
    "```\n",
    "\n",
    "Find the **state of land use** in **2009** and **2014**,\n",
    "assuming that the transition probabilities for 5-year intervals are given\n",
    "by the matrix **A** and remain practically the same over the time considered.\n",
    "\n",
    "The following matrix can help visualize this process:\n",
    "\n",
    "$$\n",
    "    \\mathbf{A} =\n",
    "    \\begin{pmatrix}\n",
    "    C\\rightarrow C & I\\rightarrow C & R \\rightarrow C \\\\ \n",
    "    C\\rightarrow I & I\\rightarrow I & R \\rightarrow I \\\\ \n",
    "    C\\rightarrow R & I\\rightarrow R & R \\rightarrow R \\\\ \n",
    "    \\end{pmatrix}\n",
    "    = \n",
    "    \\begin{pmatrix}\n",
    "    0.7 & 0.1 & 0.0\\\\ \n",
    "    0.2 & 0.9 & 0.2\\\\ \n",
    "    0.1 & 0.0 & 0.8\\\\\n",
    "    \\end{pmatrix}\n",
    "$$"
   ]
  },
  {
   "cell_type": "code",
   "execution_count": 7,
   "metadata": {},
   "outputs": [
    {
     "data": {
      "text/plain": [
       "(array([[0.7, 0.1, 0. ],\n",
       "        [0.2, 0.9, 0.2],\n",
       "        [0.1, 0. , 0.8]]), (3, 3))"
      ]
     },
     "execution_count": 7,
     "metadata": {},
     "output_type": "execute_result"
    }
   ],
   "source": [
    "# Question 1\n",
    "# Create the stochastic matrix shown above\n",
    "A = np.array([[0.7, 0.1, 0.0],[0.2, 0.9, 0.2],[0.1, 0, 0.8]])\n",
    "A, A.shape"
   ]
  },
  {
   "cell_type": "code",
   "execution_count": 11,
   "metadata": {},
   "outputs": [
    {
     "data": {
      "text/plain": [
       "(array([[0.25],\n",
       "        [0.2 ],\n",
       "        [0.55]]), (3, 1))"
      ]
     },
     "execution_count": 11,
     "metadata": {},
     "output_type": "execute_result"
    }
   ],
   "source": [
    "# Question 2\n",
    "# Create a vector representing the initial state of land use\n",
    "landuse04 = np.array([0.25, 0.2, 0.55]).reshape(-1, 1)\n",
    "landuse04, landuse04.shape"
   ]
  },
  {
   "cell_type": "code",
   "execution_count": 13,
   "metadata": {},
   "outputs": [
    {
     "data": {
      "text/plain": [
       "array([[0.195],\n",
       "       [0.34 ],\n",
       "       [0.465]])"
      ]
     },
     "execution_count": 13,
     "metadata": {},
     "output_type": "execute_result"
    }
   ],
   "source": [
    "# Question 3\n",
    "# Determine the state of land use in 2009\n",
    "landuse09 = A.dot(landuse04)\n",
    "landuse09"
   ]
  },
  {
   "cell_type": "code",
   "execution_count": 14,
   "metadata": {},
   "outputs": [
    {
     "data": {
      "text/plain": [
       "array([[0.1705],\n",
       "       [0.438 ],\n",
       "       [0.3915]])"
      ]
     },
     "execution_count": 14,
     "metadata": {},
     "output_type": "execute_result"
    }
   ],
   "source": [
    "# Question 4\n",
    "# Determine the state of land use in 2014\n",
    "landuse14 = A.dot(landuse09)\n",
    "landuse14"
   ]
  },
  {
   "cell_type": "code",
   "execution_count": 16,
   "metadata": {},
   "outputs": [
    {
     "name": "stdout",
     "output_type": "stream",
     "text": [
      "Collecting matplotlib\n",
      "  Using cached matplotlib-2.1.1-cp36-cp36m-macosx_10_6_intel.macosx_10_9_intel.macosx_10_9_x86_64.macosx_10_10_intel.macosx_10_10_x86_64.whl\n",
      "Requirement already satisfied: six>=1.10 in /Users/colllin/.pyenv/versions/3.6.2/envs/galvanize-math-essentials-for-data-science/lib/python3.6/site-packages (from matplotlib)\n",
      "Requirement already satisfied: python-dateutil>=2.0 in /Users/colllin/.pyenv/versions/3.6.2/envs/galvanize-math-essentials-for-data-science/lib/python3.6/site-packages (from matplotlib)\n",
      "Collecting pyparsing!=2.0.4,!=2.1.2,!=2.1.6,>=2.0.1 (from matplotlib)\n",
      "  Using cached pyparsing-2.2.0-py2.py3-none-any.whl\n",
      "Collecting pytz (from matplotlib)\n",
      "  Using cached pytz-2017.3-py2.py3-none-any.whl\n",
      "Requirement already satisfied: numpy>=1.7.1 in /Users/colllin/.pyenv/versions/3.6.2/envs/galvanize-math-essentials-for-data-science/lib/python3.6/site-packages (from matplotlib)\n",
      "Collecting cycler>=0.10 (from matplotlib)\n",
      "  Using cached cycler-0.10.0-py2.py3-none-any.whl\n",
      "Installing collected packages: pyparsing, pytz, cycler, matplotlib\n",
      "Successfully installed cycler-0.10.0 matplotlib-2.1.1 pyparsing-2.2.0 pytz-2017.3\n"
     ]
    }
   ],
   "source": [
    "!pip install matplotlib"
   ]
  },
  {
   "cell_type": "code",
   "execution_count": 38,
   "metadata": {},
   "outputs": [
    {
     "data": {
      "text/plain": [
       "array([[[0.25     , 0.2      , 0.55     ]],\n",
       "\n",
       "       [[0.195    , 0.34     , 0.465    ]],\n",
       "\n",
       "       [[0.1705   , 0.438    , 0.3915   ]],\n",
       "\n",
       "       [[0.16315  , 0.5066   , 0.33025  ]],\n",
       "\n",
       "       [[0.164865 , 0.55462  , 0.280515 ]],\n",
       "\n",
       "       [[0.1708675, 0.588234 , 0.2408985]]])"
      ]
     },
     "execution_count": 38,
     "metadata": {},
     "output_type": "execute_result"
    }
   ],
   "source": [
    "np.linalg.multi_dot([landuse04.T] + [A.T]*2)\n",
    "\n",
    "landuse_by_year = np.array([landuse04.T] + [np.linalg.multi_dot([landuse04.T] + [A.T]*i) for i in range(1, len(ind))])\n",
    "landuse_by_year"
   ]
  },
  {
   "cell_type": "code",
   "execution_count": 51,
   "metadata": {
    "scrolled": false
   },
   "outputs": [
    {
     "name": "stdout",
     "output_type": "stream",
     "text": [
      "(6, 3) [1. 1. 1. 1. 1. 1.] [[0.25      0.2       0.55     ]\n",
      " [0.195     0.34      0.465    ]\n",
      " [0.1705    0.438     0.3915   ]\n",
      " [0.16315   0.5066    0.33025  ]\n",
      " [0.164865  0.55462   0.280515 ]\n",
      " [0.1708675 0.588234  0.2408985]]\n"
     ]
    },
    {
     "data": {
      "image/png": "[encoded data removed]",
      "text/plain": [
       "<matplotlib.figure.Figure at 0x10e1e3630>"
      ]
     },
     "metadata": {},
     "output_type": "display_data"
    }
   ],
   "source": [
    "# Extra credit\n",
    "# look at the following example plot and modify it to visualize the trend until 2029\n",
    "\n",
    "import matplotlib.pyplot as plt\n",
    "%matplotlib inline\n",
    "\n",
    "fig = plt.figure(figsize=(10,10))\n",
    "ax = fig.add_subplot(111)\n",
    "\n",
    "ind = np.arange(2004, 2030, 5) # the x locations for the groups\n",
    "N = ind.size\n",
    "\n",
    "landuse_by_year = [landuse04.T]\n",
    "landuse_by_year += [np.linalg.multi_dot([landuse04.T] + [A.T]*i) for i in range(1, len(ind))]\n",
    "landuse_by_year = np.array(landuse_by_year).squeeze()\n",
    "print(landuse_by_year.shape, landuse_by_year.sum(axis=1), landuse_by_year)\n",
    "\n",
    "width = 5*.35         # the width of the bars: can also be len(x) sequence\n",
    "\n",
    "c = ax.bar(ind, landuse_by_year[:,0], width, color='yellow')\n",
    "i = ax.bar(ind, landuse_by_year[:,1], width, color='green', bottom=landuse_by_year[:,0])\n",
    "r = ax.bar(ind, landuse_by_year[:,2], width, color='blue', bottom=landuse_by_year[:,0]+ landuse_by_year[:,1])\n",
    "\n",
    "ax.set_ylabel('% Land Use')\n",
    "ax.set_title('Predicted Land Use through 2029')\n",
    "# ax.set_xticks(ind, np.arange(2004, 2030, 5))\n",
    "#plt.yticks(np.arange(0, 81, 10))\n",
    "ax.legend((c[0], i[0], r[0]), ('Commercial', 'Industrial', 'Residential'))\n",
    "pass\n"
   ]
  },
  {
   "cell_type": "code",
   "execution_count": null,
   "metadata": {},
   "outputs": [],
   "source": []
  }
 ],
 "metadata": {
  "kernelspec": {
   "display_name": "galvanize-math-essentials-for-data-science",
   "language": "python",
   "name": "galvanize-math-essentials-for-data-science"
  },
  "language_info": {
   "codemirror_mode": {
    "name": "ipython",
    "version": 3
   },
   "file_extension": ".py",
   "mimetype": "text/x-python",
   "name": "python",
   "nbconvert_exporter": "python",
   "pygments_lexer": "ipython3",
   "version": "3.6.2"
  }
 },
 "nbformat": 4,
 "nbformat_minor": 2
}
